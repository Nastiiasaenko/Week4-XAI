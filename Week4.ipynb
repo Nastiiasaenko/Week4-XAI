{
  "nbformat": 4,
  "nbformat_minor": 0,
  "metadata": {
    "colab": {
      "provenance": [],
      "authorship_tag": "ABX9TyOLnXw8jr1q4nvLNU2+90Po",
      "include_colab_link": true
    },
    "kernelspec": {
      "name": "python3",
      "display_name": "Python 3"
    },
    "language_info": {
      "name": "python"
    }
  },
  "cells": [
    {
      "cell_type": "markdown",
      "metadata": {
        "id": "view-in-github",
        "colab_type": "text"
      },
      "source": [
        "<a href=\"https://colab.research.google.com/github/Nastiiasaenko/Week4-XAI/blob/main/Week4.ipynb\" target=\"_parent\"><img src=\"https://colab.research.google.com/assets/colab-badge.svg\" alt=\"Open In Colab\"/></a>"
      ]
    },
    {
      "cell_type": "markdown",
      "source": [
        "We will use the same dataset from Week4\n"
      ],
      "metadata": {
        "id": "uWnFQZ6dz05S"
      }
    },
    {
      "cell_type": "code",
      "source": [
        "!pip install imodels\n"
      ],
      "metadata": {
        "colab": {
          "base_uri": "https://localhost:8080/"
        },
        "id": "BavDSQFL0hLK",
        "outputId": "cd356159-fb5a-46ed-9a1c-3df2e44fb801"
      },
      "execution_count": 4,
      "outputs": [
        {
          "output_type": "stream",
          "name": "stdout",
          "text": [
            "Collecting imodels\n",
            "  Downloading imodels-1.4.6-py3-none-any.whl.metadata (30 kB)\n",
            "Requirement already satisfied: matplotlib in /usr/local/lib/python3.10/dist-packages (from imodels) (3.7.1)\n",
            "Requirement already satisfied: mlxtend>=0.18.0 in /usr/local/lib/python3.10/dist-packages (from imodels) (0.23.1)\n",
            "Requirement already satisfied: numpy in /usr/local/lib/python3.10/dist-packages (from imodels) (1.26.4)\n",
            "Requirement already satisfied: pandas in /usr/local/lib/python3.10/dist-packages (from imodels) (2.1.4)\n",
            "Requirement already satisfied: requests in /usr/local/lib/python3.10/dist-packages (from imodels) (2.32.3)\n",
            "Requirement already satisfied: scipy in /usr/local/lib/python3.10/dist-packages (from imodels) (1.13.1)\n",
            "Requirement already satisfied: scikit-learn>=1.2.0 in /usr/local/lib/python3.10/dist-packages (from imodels) (1.5.2)\n",
            "Requirement already satisfied: tqdm in /usr/local/lib/python3.10/dist-packages (from imodels) (4.66.5)\n",
            "Requirement already satisfied: joblib>=0.13.2 in /usr/local/lib/python3.10/dist-packages (from mlxtend>=0.18.0->imodels) (1.4.2)\n",
            "Requirement already satisfied: contourpy>=1.0.1 in /usr/local/lib/python3.10/dist-packages (from matplotlib->imodels) (1.3.0)\n",
            "Requirement already satisfied: cycler>=0.10 in /usr/local/lib/python3.10/dist-packages (from matplotlib->imodels) (0.12.1)\n",
            "Requirement already satisfied: fonttools>=4.22.0 in /usr/local/lib/python3.10/dist-packages (from matplotlib->imodels) (4.53.1)\n",
            "Requirement already satisfied: kiwisolver>=1.0.1 in /usr/local/lib/python3.10/dist-packages (from matplotlib->imodels) (1.4.7)\n",
            "Requirement already satisfied: packaging>=20.0 in /usr/local/lib/python3.10/dist-packages (from matplotlib->imodels) (24.1)\n",
            "Requirement already satisfied: pillow>=6.2.0 in /usr/local/lib/python3.10/dist-packages (from matplotlib->imodels) (10.4.0)\n",
            "Requirement already satisfied: pyparsing>=2.3.1 in /usr/local/lib/python3.10/dist-packages (from matplotlib->imodels) (3.1.4)\n",
            "Requirement already satisfied: python-dateutil>=2.7 in /usr/local/lib/python3.10/dist-packages (from matplotlib->imodels) (2.8.2)\n",
            "Requirement already satisfied: pytz>=2020.1 in /usr/local/lib/python3.10/dist-packages (from pandas->imodels) (2024.2)\n",
            "Requirement already satisfied: tzdata>=2022.1 in /usr/local/lib/python3.10/dist-packages (from pandas->imodels) (2024.1)\n",
            "Requirement already satisfied: threadpoolctl>=3.1.0 in /usr/local/lib/python3.10/dist-packages (from scikit-learn>=1.2.0->imodels) (3.5.0)\n",
            "Requirement already satisfied: charset-normalizer<4,>=2 in /usr/local/lib/python3.10/dist-packages (from requests->imodels) (3.3.2)\n",
            "Requirement already satisfied: idna<4,>=2.5 in /usr/local/lib/python3.10/dist-packages (from requests->imodels) (3.10)\n",
            "Requirement already satisfied: urllib3<3,>=1.21.1 in /usr/local/lib/python3.10/dist-packages (from requests->imodels) (2.2.3)\n",
            "Requirement already satisfied: certifi>=2017.4.17 in /usr/local/lib/python3.10/dist-packages (from requests->imodels) (2024.8.30)\n",
            "Requirement already satisfied: six>=1.5 in /usr/local/lib/python3.10/dist-packages (from python-dateutil>=2.7->matplotlib->imodels) (1.16.0)\n",
            "Downloading imodels-1.4.6-py3-none-any.whl (243 kB)\n",
            "\u001b[2K   \u001b[90m━━━━━━━━━━━━━━━━━━━━━━━━━━━━━━━━━━━━━━━━\u001b[0m \u001b[32m243.0/243.0 kB\u001b[0m \u001b[31m7.4 MB/s\u001b[0m eta \u001b[36m0:00:00\u001b[0m\n",
            "\u001b[?25hInstalling collected packages: imodels\n",
            "Successfully installed imodels-1.4.6\n"
          ]
        }
      ]
    },
    {
      "cell_type": "code",
      "execution_count": 39,
      "metadata": {
        "id": "4X3qSDsGjp9v",
        "colab": {
          "base_uri": "https://localhost:8080/"
        },
        "outputId": "4ca580bd-3429-43ad-88c8-1f7ec2b92e5f"
      },
      "outputs": [
        {
          "output_type": "stream",
          "name": "stderr",
          "text": [
            "/usr/local/lib/python3.10/dist-packages/ipykernel/ipkernel.py:283: DeprecationWarning: `should_run_async` will not call `transform_cell` automatically in the future. Please pass the result to `transformed_cell` argument and any exception that happen during thetransform in `preprocessing_exc_tuple` in IPython 7.17 and above.\n",
            "  and should_run_async(code)\n"
          ]
        }
      ],
      "source": [
        "import pandas as pd"
      ]
    },
    {
      "cell_type": "code",
      "source": [
        "df = pd.read_csv('https://raw.githubusercontent.com/Nastiiasaenko/Week-3XAI/refs/heads/main/WA_Fn-UseC_-Telco-Customer-Churn.csv')"
      ],
      "metadata": {
        "colab": {
          "base_uri": "https://localhost:8080/"
        },
        "id": "aTWFnKVnz4sA",
        "outputId": "1711e357-7f82-4836-b503-cf8c7193e57b"
      },
      "execution_count": 40,
      "outputs": [
        {
          "output_type": "stream",
          "name": "stderr",
          "text": [
            "/usr/local/lib/python3.10/dist-packages/ipykernel/ipkernel.py:283: DeprecationWarning: `should_run_async` will not call `transform_cell` automatically in the future. Please pass the result to `transformed_cell` argument and any exception that happen during thetransform in `preprocessing_exc_tuple` in IPython 7.17 and above.\n",
            "  and should_run_async(code)\n"
          ]
        }
      ]
    },
    {
      "cell_type": "code",
      "source": [
        "## Convert categorical variables to machine readable and dummies\n",
        "df['gender'] = df['gender'].map(lambda x: {'Female': 1, 'Male': 0}[x.strip()])\n",
        "df.Partner = df.Partner.map({'Yes':1, \"No\":0})\n",
        "df.Dependents = df.Dependents.map({'Yes':1, \"No\":0})\n",
        "df['PhoneService'] = df['PhoneService'].map(lambda x: {'Yes': 1, 'No': 0}[x.strip()])\n",
        "df['MultipleLines'] = df['MultipleLines'].map(lambda x: {'Yes': 1, 'No': 0, 'No phone service':2}[x.strip()])\n",
        "df['InternetService'] = df['InternetService'].map(lambda x: {'DSL': 1, 'No': 0, 'Fiber optic':2}[x.strip()])\n",
        "df['OnlineSecurity'] = df['OnlineSecurity'].map(lambda x: {'Yes': 1, 'No': 0, 'No internet service':2}[x.strip()])\n",
        "df['OnlineBackup'] = df['OnlineBackup'].map(lambda x: {'Yes': 1, 'No': 0, 'No internet service':2}[x.strip()])\n",
        "df['DeviceProtection'] = df['DeviceProtection'].map(lambda x: {'Yes': 1, 'No': 0, 'No internet service':2}[x.strip()])\n",
        "df['TechSupport'] = df['TechSupport'].map(lambda x: {'Yes': 1, 'No': 0, 'No internet service':2}[x.strip()])\n",
        "df['StreamingTV'] = df['StreamingTV'].map(lambda x: {'Yes': 1, 'No': 0, 'No internet service':2}[x.strip()])\n",
        "df['StreamingMovies'] = df['StreamingMovies'].map(lambda x: {'Yes': 1, 'No': 0, 'No internet service':2}[x.strip()])\n",
        "df['Contract'] = df['Contract'].map(lambda x: {'Month-to-month': 1, 'One year': 0, 'Two year':2}[x.strip()])\n",
        "df['PaperlessBilling'] = df['PaperlessBilling'].map(lambda x: {'Yes': 1, 'No': 0}[x.strip()])\n",
        "df['PaymentMethod'] = df.PaymentMethod\n",
        "\n",
        "# Store the original column names\n",
        "original_columns = df.columns\n",
        "\n",
        "# Generate dummy variables with drop_first=True\n",
        "df = pd.get_dummies(df, columns=['PaymentMethod'], drop_first=True)\n",
        "\n",
        "# Identify newly created dummy columns\n",
        "new_dummy_columns = df.columns.difference(original_columns)\n",
        "\n",
        "# Convert only the new dummy columns to 0/1\n",
        "df[new_dummy_columns] = df[new_dummy_columns].astype(int)\n",
        "\n",
        "\n",
        "df['Churn'] = df['Churn'].map(lambda x: {'Yes': 1, 'No': 0}[x.strip()])"
      ],
      "metadata": {
        "colab": {
          "base_uri": "https://localhost:8080/"
        },
        "id": "fIHXth4h1GhM",
        "outputId": "81fc1ef0-6388-4ea0-9f11-720e20ce63a4"
      },
      "execution_count": 41,
      "outputs": [
        {
          "output_type": "stream",
          "name": "stderr",
          "text": [
            "/usr/local/lib/python3.10/dist-packages/ipykernel/ipkernel.py:283: DeprecationWarning: `should_run_async` will not call `transform_cell` automatically in the future. Please pass the result to `transformed_cell` argument and any exception that happen during thetransform in `preprocessing_exc_tuple` in IPython 7.17 and above.\n",
            "  and should_run_async(code)\n"
          ]
        }
      ]
    },
    {
      "cell_type": "code",
      "source": [
        "# Convert TotalCharges to numeric, forcing errors to NaN\n",
        "df['TotalCharges'] = pd.to_numeric(df['TotalCharges'], errors='coerce')\n",
        "\n",
        "# Check for NaN values in TotalCharges after conversion\n",
        "missing_total_charges = df['TotalCharges'].isnull().sum()\n",
        "\n",
        "# Filling missing values in TotalCharges with the median\n",
        "df['TotalCharges'].fillna(df['TotalCharges'].median(), inplace=True)\n",
        "\n",
        "# Verify the conversion\n",
        "df['TotalCharges'].dtype, missing_total_charges"
      ],
      "metadata": {
        "colab": {
          "base_uri": "https://localhost:8080/"
        },
        "id": "PjZBMrkD2UOE",
        "outputId": "68a87761-379a-4590-df93-8fffcd633dfe"
      },
      "execution_count": 42,
      "outputs": [
        {
          "output_type": "stream",
          "name": "stderr",
          "text": [
            "/usr/local/lib/python3.10/dist-packages/ipykernel/ipkernel.py:283: DeprecationWarning: `should_run_async` will not call `transform_cell` automatically in the future. Please pass the result to `transformed_cell` argument and any exception that happen during thetransform in `preprocessing_exc_tuple` in IPython 7.17 and above.\n",
            "  and should_run_async(code)\n"
          ]
        },
        {
          "output_type": "execute_result",
          "data": {
            "text/plain": [
              "(dtype('float64'), 11)"
            ]
          },
          "metadata": {},
          "execution_count": 42
        }
      ]
    },
    {
      "cell_type": "code",
      "source": [
        "import pandas as pd\n",
        "from sklearn.model_selection import train_test_split\n",
        "\n",
        "# Load your dataset (assuming you have it prepared similarly to the previous one)\n",
        "X = df  # Load your dataset\n",
        "y = X['Churn']  # Assuming 'churn' is the target variable\n",
        "X = X.drop(columns=['PaymentMethod_Credit card (automatic)'], axis=1)\n",
        "X = X.drop(columns=['Churn', 'customerID'], axis=1)  # Drop the target from the features\n",
        "\n",
        "# Train-test split\n",
        "X_train, X_test, y_train, y_test = train_test_split(X, y, random_state=42)\n"
      ],
      "metadata": {
        "colab": {
          "base_uri": "https://localhost:8080/"
        },
        "id": "wvhxcEDQz_c_",
        "outputId": "00a40a19-7643-41cf-c334-3f864902c67a"
      },
      "execution_count": 43,
      "outputs": [
        {
          "output_type": "stream",
          "name": "stderr",
          "text": [
            "/usr/local/lib/python3.10/dist-packages/ipykernel/ipkernel.py:283: DeprecationWarning: `should_run_async` will not call `transform_cell` automatically in the future. Please pass the result to `transformed_cell` argument and any exception that happen during thetransform in `preprocessing_exc_tuple` in IPython 7.17 and above.\n",
            "  and should_run_async(code)\n"
          ]
        }
      ]
    },
    {
      "cell_type": "code",
      "source": [
        "from imodels import RuleFitClassifier\n",
        "\n",
        "\n",
        "# Initialize and train the RuleFit model\n",
        "rulefit_model = RuleFitClassifier()\n",
        "rulefit_model.fit(X_train, y_train)\n",
        "\n",
        "# Make predictions\n",
        "preds = rulefit_model.predict(X_test)\n",
        "\n",
        "# Print the model and evaluation\n",
        "print(rulefit_model)\n"
      ],
      "metadata": {
        "colab": {
          "base_uri": "https://localhost:8080/"
        },
        "id": "2tn9ivlV0p5_",
        "outputId": "9b76566c-ab83-4ba9-f6d1-aebed3a37aab"
      },
      "execution_count": 44,
      "outputs": [
        {
          "output_type": "stream",
          "name": "stderr",
          "text": [
            "/usr/local/lib/python3.10/dist-packages/ipykernel/ipkernel.py:283: DeprecationWarning: `should_run_async` will not call `transform_cell` automatically in the future. Please pass the result to `transformed_cell` argument and any exception that happen during thetransform in `preprocessing_exc_tuple` in IPython 7.17 and above.\n",
            "  and should_run_async(code)\n"
          ]
        },
        {
          "output_type": "stream",
          "name": "stdout",
          "text": [
            "> ------------------------------\n",
            "> RuleFit:\n",
            "> \tPredictions are made by summing the coefficients of each rule\n",
            "> ------------------------------\n",
            "                                                                                     rule  coef\n",
            "                                                                             tenure > 5.5 -0.25\n",
            "                                                                             tenure > 6.5 -0.01\n",
            "                                                                            tenure > 12.5 -0.21\n",
            "                                                                            tenure > 13.5 -0.07\n",
            "                                                                            tenure > 17.5 -0.25\n",
            "                                   PaymentMethod_Electronic check <= 0.5 and tenure > 1.5 -0.25\n",
            "                                   PaymentMethod_Electronic check <= 0.5 and tenure > 4.5 -0.12\n",
            "                                                                       OnlineBackup > 0.5 -0.02\n",
            "                                                                   InternetService <= 1.5 -0.55\n",
            "                                   PaymentMethod_Electronic check <= 0.5 and tenure > 6.5 -0.11\n",
            "                                                       Contract <= 1.5 and Contract > 0.5  0.52\n",
            "                                            TechSupport > 0.5 and MonthlyCharges <= 117.2 -0.22\n",
            "                                                                     OnlineSecurity > 0.5 -0.03\n",
            "                                              SeniorCitizen <= 0.5 and OnlineBackup > 0.5 -0.17\n",
            "                                           TotalCharges > 20.325 and OnlineSecurity > 0.5 -0.15\n",
            "                                             TotalCharges > 29.8 and OnlineSecurity > 0.5 -0.22\n",
            "                                                  tenure > 3.5 and InternetService <= 1.5 -0.23\n",
            "                                            InternetService <= 1.5 and OnlineBackup > 0.5 -0.07\n",
            "                  TotalCharges > 20.2 and InternetService <= 1.5 and OnlineSecurity > 0.5 -0.01\n",
            "                                            TechSupport <= 0.5 and PaperlessBilling > 0.5  0.09\n",
            "                                                 tenure <= 47.5 and InternetService > 1.5  0.05\n",
            "                        MonthlyCharges <= 95.1 and tenure > 4.5 and OnlineSecurity <= 0.5 -0.03\n",
            "                                                                           Contract > 1.5 -0.51\n",
            "                              Contract > 0.5 and tenure <= 38.5 and InternetService > 1.5  0.05\n",
            "PaperlessBilling > 0.5 and Dependents <= 0.5 and tenure <= 42.5 and OnlineSecurity <= 0.5  0.22\n",
            "                            TechSupport <= 0.5 and tenure <= 33.5 and MultipleLines > 0.5  0.18\n",
            "                                        TotalCharges <= 351.675 and OnlineSecurity <= 0.5  0.06\n",
            "                        PaperlessBilling > 0.5 and tenure <= 13.5 and MultipleLines > 0.5  0.07\n",
            "\n"
          ]
        }
      ]
    },
    {
      "cell_type": "code",
      "source": [
        "## Rule list\n",
        "\n",
        "from imodels import OptimalRuleListClassifier\n",
        "\n",
        "# Initialize and train the Optimal Rule List model\n",
        "orl_model = OptimalRuleListClassifier()\n",
        "orl_model.fit(X_train, y_train)\n",
        "\n",
        "# Make predictions\n",
        "orl_preds = orl_model.predict(X_test)\n",
        "\n",
        "# Print the model\n",
        "print(orl_model)\n"
      ],
      "metadata": {
        "colab": {
          "base_uri": "https://localhost:8080/"
        },
        "id": "v2GISV4k046l",
        "outputId": "6c400219-6fce-4577-dfe4-cda9329ee8d0"
      },
      "execution_count": 45,
      "outputs": [
        {
          "output_type": "stream",
          "name": "stdout",
          "text": [
            "> ------------------------------\n",
            "> Greedy Rule List\n",
            "> ------------------------------\n",
            "↓\n",
            "11.4% risk (5282 pts)\n",
            "\tif ~OnlineSecurity ==> 41.4% risk (2625 pts)\n",
            "↓\n",
            "1.85% risk (2657 pts)\n",
            "\tif ~Contract ==> 17.4% risk (1629 pts)\n",
            "↓\n",
            "1.1% risk (1028 pts)\n",
            "\tif MonthlyCharges ==> 7.3999999999999995% risk (121 pts)\n",
            "↓\n",
            "0.0% risk (907 pts)\n",
            "\tif ~tenure ==> 1.5% risk (668 pts)\n",
            "↓\n",
            "0.0% risk (239 pts)\n",
            "\n"
          ]
        },
        {
          "output_type": "stream",
          "name": "stderr",
          "text": [
            "/usr/local/lib/python3.10/dist-packages/ipykernel/ipkernel.py:283: DeprecationWarning: `should_run_async` will not call `transform_cell` automatically in the future. Please pass the result to `transformed_cell` argument and any exception that happen during thetransform in `preprocessing_exc_tuple` in IPython 7.17 and above.\n",
            "  and should_run_async(code)\n",
            "/usr/local/lib/python3.10/dist-packages/imodels/rule_list/corels_wrapper.py:87: UserWarning: Should install corels with pip install corels. Using GreedyRuleList instead.\n",
            "  warnings.warn(\"Should install corels with pip install corels. Using GreedyRuleList instead.\")\n"
          ]
        }
      ]
    },
    {
      "cell_type": "markdown",
      "source": [
        "Rule Tree\n"
      ],
      "metadata": {
        "id": "9HGBeYfo2euL"
      }
    },
    {
      "cell_type": "code",
      "source": [
        "from imodels import GreedyRuleTreeClassifier\n",
        "\n",
        "# Initialize and train the Greedy Rule Tree model\n",
        "grt_model = GreedyRuleTreeClassifier()\n",
        "grt_model.fit(X_train, y_train)\n",
        "\n",
        "# Make predictions\n",
        "grt_preds = grt_model.predict(X_test)\n",
        "\n",
        "# Print the model\n",
        "print(grt_model)\n",
        "\n"
      ],
      "metadata": {
        "colab": {
          "base_uri": "https://localhost:8080/",
          "height": 439
        },
        "id": "oN1ibuon1PpA",
        "outputId": "206f4f7a-23b1-4a02-b75d-e7f12768e609"
      },
      "execution_count": 49,
      "outputs": [
        {
          "output_type": "stream",
          "name": "stderr",
          "text": [
            "/usr/local/lib/python3.10/dist-packages/ipykernel/ipkernel.py:283: DeprecationWarning: `should_run_async` will not call `transform_cell` automatically in the future. Please pass the result to `transformed_cell` argument and any exception that happen during thetransform in `preprocessing_exc_tuple` in IPython 7.17 and above.\n",
            "  and should_run_async(code)\n"
          ]
        },
        {
          "output_type": "error",
          "ename": "ImportError",
          "evalue": "cannot import name 'GreedyRuleTreeClassifier' from 'imodels' (/usr/local/lib/python3.10/dist-packages/imodels/__init__.py)",
          "traceback": [
            "\u001b[0;31m---------------------------------------------------------------------------\u001b[0m",
            "\u001b[0;31mImportError\u001b[0m                               Traceback (most recent call last)",
            "\u001b[0;32m<ipython-input-49-12e58d19f5b8>\u001b[0m in \u001b[0;36m<cell line: 1>\u001b[0;34m()\u001b[0m\n\u001b[0;32m----> 1\u001b[0;31m \u001b[0;32mfrom\u001b[0m \u001b[0mimodels\u001b[0m \u001b[0;32mimport\u001b[0m \u001b[0mGreedyRuleTreeClassifier\u001b[0m\u001b[0;34m\u001b[0m\u001b[0;34m\u001b[0m\u001b[0m\n\u001b[0m\u001b[1;32m      2\u001b[0m \u001b[0;34m\u001b[0m\u001b[0m\n\u001b[1;32m      3\u001b[0m \u001b[0;31m# Initialize and train the Greedy Rule Tree model\u001b[0m\u001b[0;34m\u001b[0m\u001b[0;34m\u001b[0m\u001b[0m\n\u001b[1;32m      4\u001b[0m \u001b[0mgrt_model\u001b[0m \u001b[0;34m=\u001b[0m \u001b[0mGreedyRuleTreeClassifier\u001b[0m\u001b[0;34m(\u001b[0m\u001b[0;34m)\u001b[0m\u001b[0;34m\u001b[0m\u001b[0;34m\u001b[0m\u001b[0m\n\u001b[1;32m      5\u001b[0m \u001b[0mgrt_model\u001b[0m\u001b[0;34m.\u001b[0m\u001b[0mfit\u001b[0m\u001b[0;34m(\u001b[0m\u001b[0mX_train\u001b[0m\u001b[0;34m,\u001b[0m \u001b[0my_train\u001b[0m\u001b[0;34m)\u001b[0m\u001b[0;34m\u001b[0m\u001b[0;34m\u001b[0m\u001b[0m\n",
            "\u001b[0;31mImportError\u001b[0m: cannot import name 'GreedyRuleTreeClassifier' from 'imodels' (/usr/local/lib/python3.10/dist-packages/imodels/__init__.py)",
            "",
            "\u001b[0;31m---------------------------------------------------------------------------\u001b[0;32m\nNOTE: If your import is failing due to a missing package, you can\nmanually install dependencies using either !pip or !apt.\n\nTo view examples of installing some common dependencies, click the\n\"Open Examples\" button below.\n\u001b[0;31m---------------------------------------------------------------------------\u001b[0m\n"
          ],
          "errorDetails": {
            "actions": [
              {
                "action": "open_url",
                "actionText": "Open Examples",
                "url": "/notebooks/snippets/importing_libraries.ipynb"
              }
            ]
          }
        }
      ]
    },
    {
      "cell_type": "code",
      "source": [
        "pip install --upgrade imodels\n"
      ],
      "metadata": {
        "colab": {
          "base_uri": "https://localhost:8080/"
        },
        "id": "6mqFk3qj2gDf",
        "outputId": "c6ab5a28-9b54-4a9d-d8a9-5cea337ad0a4"
      },
      "execution_count": 47,
      "outputs": [
        {
          "output_type": "stream",
          "name": "stderr",
          "text": [
            "/usr/local/lib/python3.10/dist-packages/ipykernel/ipkernel.py:283: DeprecationWarning: `should_run_async` will not call `transform_cell` automatically in the future. Please pass the result to `transformed_cell` argument and any exception that happen during thetransform in `preprocessing_exc_tuple` in IPython 7.17 and above.\n",
            "  and should_run_async(code)\n"
          ]
        },
        {
          "output_type": "stream",
          "name": "stdout",
          "text": [
            "Requirement already satisfied: imodels in /usr/local/lib/python3.10/dist-packages (1.4.6)\n",
            "Requirement already satisfied: matplotlib in /usr/local/lib/python3.10/dist-packages (from imodels) (3.7.1)\n",
            "Requirement already satisfied: mlxtend>=0.18.0 in /usr/local/lib/python3.10/dist-packages (from imodels) (0.23.1)\n",
            "Requirement already satisfied: numpy in /usr/local/lib/python3.10/dist-packages (from imodels) (1.26.4)\n",
            "Requirement already satisfied: pandas in /usr/local/lib/python3.10/dist-packages (from imodels) (2.1.4)\n",
            "Requirement already satisfied: requests in /usr/local/lib/python3.10/dist-packages (from imodels) (2.32.3)\n",
            "Requirement already satisfied: scipy in /usr/local/lib/python3.10/dist-packages (from imodels) (1.13.1)\n",
            "Requirement already satisfied: scikit-learn>=1.2.0 in /usr/local/lib/python3.10/dist-packages (from imodels) (1.5.2)\n",
            "Requirement already satisfied: tqdm in /usr/local/lib/python3.10/dist-packages (from imodels) (4.66.5)\n",
            "Requirement already satisfied: joblib>=0.13.2 in /usr/local/lib/python3.10/dist-packages (from mlxtend>=0.18.0->imodels) (1.4.2)\n",
            "Requirement already satisfied: contourpy>=1.0.1 in /usr/local/lib/python3.10/dist-packages (from matplotlib->imodels) (1.3.0)\n",
            "Requirement already satisfied: cycler>=0.10 in /usr/local/lib/python3.10/dist-packages (from matplotlib->imodels) (0.12.1)\n",
            "Requirement already satisfied: fonttools>=4.22.0 in /usr/local/lib/python3.10/dist-packages (from matplotlib->imodels) (4.53.1)\n",
            "Requirement already satisfied: kiwisolver>=1.0.1 in /usr/local/lib/python3.10/dist-packages (from matplotlib->imodels) (1.4.7)\n",
            "Requirement already satisfied: packaging>=20.0 in /usr/local/lib/python3.10/dist-packages (from matplotlib->imodels) (24.1)\n",
            "Requirement already satisfied: pillow>=6.2.0 in /usr/local/lib/python3.10/dist-packages (from matplotlib->imodels) (10.4.0)\n",
            "Requirement already satisfied: pyparsing>=2.3.1 in /usr/local/lib/python3.10/dist-packages (from matplotlib->imodels) (3.1.4)\n",
            "Requirement already satisfied: python-dateutil>=2.7 in /usr/local/lib/python3.10/dist-packages (from matplotlib->imodels) (2.8.2)\n",
            "Requirement already satisfied: pytz>=2020.1 in /usr/local/lib/python3.10/dist-packages (from pandas->imodels) (2024.2)\n",
            "Requirement already satisfied: tzdata>=2022.1 in /usr/local/lib/python3.10/dist-packages (from pandas->imodels) (2024.1)\n",
            "Requirement already satisfied: threadpoolctl>=3.1.0 in /usr/local/lib/python3.10/dist-packages (from scikit-learn>=1.2.0->imodels) (3.5.0)\n",
            "Requirement already satisfied: charset-normalizer<4,>=2 in /usr/local/lib/python3.10/dist-packages (from requests->imodels) (3.3.2)\n",
            "Requirement already satisfied: idna<4,>=2.5 in /usr/local/lib/python3.10/dist-packages (from requests->imodels) (3.10)\n",
            "Requirement already satisfied: urllib3<3,>=1.21.1 in /usr/local/lib/python3.10/dist-packages (from requests->imodels) (2.2.3)\n",
            "Requirement already satisfied: certifi>=2017.4.17 in /usr/local/lib/python3.10/dist-packages (from requests->imodels) (2024.8.30)\n",
            "Requirement already satisfied: six>=1.5 in /usr/local/lib/python3.10/dist-packages (from python-dateutil>=2.7->matplotlib->imodels) (1.16.0)\n"
          ]
        }
      ]
    },
    {
      "cell_type": "code",
      "source": [],
      "metadata": {
        "id": "O9fXfirq2pIq"
      },
      "execution_count": null,
      "outputs": []
    }
  ]
}