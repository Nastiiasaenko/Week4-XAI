{
  "nbformat": 4,
  "nbformat_minor": 0,
  "metadata": {
    "colab": {
      "provenance": [],
      "authorship_tag": "ABX9TyPoMqldQAv2kR+T8XuMIk/M",
      "include_colab_link": true
    },
    "kernelspec": {
      "name": "python3",
      "display_name": "Python 3"
    },
    "language_info": {
      "name": "python"
    }
  },
  "cells": [
    {
      "cell_type": "markdown",
      "metadata": {
        "id": "view-in-github",
        "colab_type": "text"
      },
      "source": [
        "<a href=\"https://colab.research.google.com/github/Nastiiasaenko/Week4-XAI/blob/main/Week4.ipynb\" target=\"_parent\"><img src=\"https://colab.research.google.com/assets/colab-badge.svg\" alt=\"Open In Colab\"/></a>"
      ]
    },
    {
      "cell_type": "markdown",
      "source": [
        "We will use the same dataset from Week4\n"
      ],
      "metadata": {
        "id": "uWnFQZ6dz05S"
      }
    },
    {
      "cell_type": "code",
      "source": [
        "!pip install imodels\n"
      ],
      "metadata": {
        "colab": {
          "base_uri": "https://localhost:8080/"
        },
        "id": "BavDSQFL0hLK",
        "outputId": "cd356159-fb5a-46ed-9a1c-3df2e44fb801"
      },
      "execution_count": null,
      "outputs": [
        {
          "output_type": "stream",
          "name": "stdout",
          "text": [
            "Collecting imodels\n",
            "  Downloading imodels-1.4.6-py3-none-any.whl.metadata (30 kB)\n",
            "Requirement already satisfied: matplotlib in /usr/local/lib/python3.10/dist-packages (from imodels) (3.7.1)\n",
            "Requirement already satisfied: mlxtend>=0.18.0 in /usr/local/lib/python3.10/dist-packages (from imodels) (0.23.1)\n",
            "Requirement already satisfied: numpy in /usr/local/lib/python3.10/dist-packages (from imodels) (1.26.4)\n",
            "Requirement already satisfied: pandas in /usr/local/lib/python3.10/dist-packages (from imodels) (2.1.4)\n",
            "Requirement already satisfied: requests in /usr/local/lib/python3.10/dist-packages (from imodels) (2.32.3)\n",
            "Requirement already satisfied: scipy in /usr/local/lib/python3.10/dist-packages (from imodels) (1.13.1)\n",
            "Requirement already satisfied: scikit-learn>=1.2.0 in /usr/local/lib/python3.10/dist-packages (from imodels) (1.5.2)\n",
            "Requirement already satisfied: tqdm in /usr/local/lib/python3.10/dist-packages (from imodels) (4.66.5)\n",
            "Requirement already satisfied: joblib>=0.13.2 in /usr/local/lib/python3.10/dist-packages (from mlxtend>=0.18.0->imodels) (1.4.2)\n",
            "Requirement already satisfied: contourpy>=1.0.1 in /usr/local/lib/python3.10/dist-packages (from matplotlib->imodels) (1.3.0)\n",
            "Requirement already satisfied: cycler>=0.10 in /usr/local/lib/python3.10/dist-packages (from matplotlib->imodels) (0.12.1)\n",
            "Requirement already satisfied: fonttools>=4.22.0 in /usr/local/lib/python3.10/dist-packages (from matplotlib->imodels) (4.53.1)\n",
            "Requirement already satisfied: kiwisolver>=1.0.1 in /usr/local/lib/python3.10/dist-packages (from matplotlib->imodels) (1.4.7)\n",
            "Requirement already satisfied: packaging>=20.0 in /usr/local/lib/python3.10/dist-packages (from matplotlib->imodels) (24.1)\n",
            "Requirement already satisfied: pillow>=6.2.0 in /usr/local/lib/python3.10/dist-packages (from matplotlib->imodels) (10.4.0)\n",
            "Requirement already satisfied: pyparsing>=2.3.1 in /usr/local/lib/python3.10/dist-packages (from matplotlib->imodels) (3.1.4)\n",
            "Requirement already satisfied: python-dateutil>=2.7 in /usr/local/lib/python3.10/dist-packages (from matplotlib->imodels) (2.8.2)\n",
            "Requirement already satisfied: pytz>=2020.1 in /usr/local/lib/python3.10/dist-packages (from pandas->imodels) (2024.2)\n",
            "Requirement already satisfied: tzdata>=2022.1 in /usr/local/lib/python3.10/dist-packages (from pandas->imodels) (2024.1)\n",
            "Requirement already satisfied: threadpoolctl>=3.1.0 in /usr/local/lib/python3.10/dist-packages (from scikit-learn>=1.2.0->imodels) (3.5.0)\n",
            "Requirement already satisfied: charset-normalizer<4,>=2 in /usr/local/lib/python3.10/dist-packages (from requests->imodels) (3.3.2)\n",
            "Requirement already satisfied: idna<4,>=2.5 in /usr/local/lib/python3.10/dist-packages (from requests->imodels) (3.10)\n",
            "Requirement already satisfied: urllib3<3,>=1.21.1 in /usr/local/lib/python3.10/dist-packages (from requests->imodels) (2.2.3)\n",
            "Requirement already satisfied: certifi>=2017.4.17 in /usr/local/lib/python3.10/dist-packages (from requests->imodels) (2024.8.30)\n",
            "Requirement already satisfied: six>=1.5 in /usr/local/lib/python3.10/dist-packages (from python-dateutil>=2.7->matplotlib->imodels) (1.16.0)\n",
            "Downloading imodels-1.4.6-py3-none-any.whl (243 kB)\n",
            "\u001b[2K   \u001b[90m━━━━━━━━━━━━━━━━━━━━━━━━━━━━━━━━━━━━━━━━\u001b[0m \u001b[32m243.0/243.0 kB\u001b[0m \u001b[31m7.4 MB/s\u001b[0m eta \u001b[36m0:00:00\u001b[0m\n",
            "\u001b[?25hInstalling collected packages: imodels\n",
            "Successfully installed imodels-1.4.6\n"
          ]
        }
      ]
    },
    {
      "cell_type": "code",
      "execution_count": null,
      "metadata": {
        "id": "4X3qSDsGjp9v",
        "colab": {
          "base_uri": "https://localhost:8080/"
        },
        "outputId": "4ca580bd-3429-43ad-88c8-1f7ec2b92e5f"
      },
      "outputs": [
        {
          "output_type": "stream",
          "name": "stderr",
          "text": [
            "/usr/local/lib/python3.10/dist-packages/ipykernel/ipkernel.py:283: DeprecationWarning: `should_run_async` will not call `transform_cell` automatically in the future. Please pass the result to `transformed_cell` argument and any exception that happen during thetransform in `preprocessing_exc_tuple` in IPython 7.17 and above.\n",
            "  and should_run_async(code)\n"
          ]
        }
      ],
      "source": [
        "import pandas as pd"
      ]
    },
    {
      "cell_type": "code",
      "source": [
        "df = pd.read_csv('https://raw.githubusercontent.com/Nastiiasaenko/Week-3XAI/refs/heads/main/WA_Fn-UseC_-Telco-Customer-Churn.csv')"
      ],
      "metadata": {
        "colab": {
          "base_uri": "https://localhost:8080/"
        },
        "id": "aTWFnKVnz4sA",
        "outputId": "1711e357-7f82-4836-b503-cf8c7193e57b"
      },
      "execution_count": null,
      "outputs": [
        {
          "output_type": "stream",
          "name": "stderr",
          "text": [
            "/usr/local/lib/python3.10/dist-packages/ipykernel/ipkernel.py:283: DeprecationWarning: `should_run_async` will not call `transform_cell` automatically in the future. Please pass the result to `transformed_cell` argument and any exception that happen during thetransform in `preprocessing_exc_tuple` in IPython 7.17 and above.\n",
            "  and should_run_async(code)\n"
          ]
        }
      ]
    },
    {
      "cell_type": "code",
      "source": [
        "## Convert categorical variables to machine readable and dummies\n",
        "df['gender'] = df['gender'].map(lambda x: {'Female': 1, 'Male': 0}[x.strip()])\n",
        "df.Partner = df.Partner.map({'Yes':1, \"No\":0})\n",
        "df.Dependents = df.Dependents.map({'Yes':1, \"No\":0})\n",
        "df['PhoneService'] = df['PhoneService'].map(lambda x: {'Yes': 1, 'No': 0}[x.strip()])\n",
        "df['MultipleLines'] = df['MultipleLines'].map(lambda x: {'Yes': 1, 'No': 0, 'No phone service':2}[x.strip()])\n",
        "df['InternetService'] = df['InternetService'].map(lambda x: {'DSL': 1, 'No': 0, 'Fiber optic':2}[x.strip()])\n",
        "df['OnlineSecurity'] = df['OnlineSecurity'].map(lambda x: {'Yes': 1, 'No': 0, 'No internet service':2}[x.strip()])\n",
        "df['OnlineBackup'] = df['OnlineBackup'].map(lambda x: {'Yes': 1, 'No': 0, 'No internet service':2}[x.strip()])\n",
        "df['DeviceProtection'] = df['DeviceProtection'].map(lambda x: {'Yes': 1, 'No': 0, 'No internet service':2}[x.strip()])\n",
        "df['TechSupport'] = df['TechSupport'].map(lambda x: {'Yes': 1, 'No': 0, 'No internet service':2}[x.strip()])\n",
        "df['StreamingTV'] = df['StreamingTV'].map(lambda x: {'Yes': 1, 'No': 0, 'No internet service':2}[x.strip()])\n",
        "df['StreamingMovies'] = df['StreamingMovies'].map(lambda x: {'Yes': 1, 'No': 0, 'No internet service':2}[x.strip()])\n",
        "df['Contract'] = df['Contract'].map(lambda x: {'Month-to-month': 1, 'One year': 0, 'Two year':2}[x.strip()])\n",
        "df['PaperlessBilling'] = df['PaperlessBilling'].map(lambda x: {'Yes': 1, 'No': 0}[x.strip()])\n",
        "df['PaymentMethod'] = df.PaymentMethod\n",
        "\n",
        "# Store the original column names\n",
        "original_columns = df.columns\n",
        "\n",
        "# Generate dummy variables with drop_first=True\n",
        "df = pd.get_dummies(df, columns=['PaymentMethod'], drop_first=True)\n",
        "\n",
        "# Identify newly created dummy columns\n",
        "new_dummy_columns = df.columns.difference(original_columns)\n",
        "\n",
        "# Convert only the new dummy columns to 0/1\n",
        "df[new_dummy_columns] = df[new_dummy_columns].astype(int)\n",
        "\n",
        "\n",
        "df['Churn'] = df['Churn'].map(lambda x: {'Yes': 1, 'No': 0}[x.strip()])"
      ],
      "metadata": {
        "colab": {
          "base_uri": "https://localhost:8080/"
        },
        "id": "fIHXth4h1GhM",
        "outputId": "81fc1ef0-6388-4ea0-9f11-720e20ce63a4"
      },
      "execution_count": null,
      "outputs": [
        {
          "output_type": "stream",
          "name": "stderr",
          "text": [
            "/usr/local/lib/python3.10/dist-packages/ipykernel/ipkernel.py:283: DeprecationWarning: `should_run_async` will not call `transform_cell` automatically in the future. Please pass the result to `transformed_cell` argument and any exception that happen during thetransform in `preprocessing_exc_tuple` in IPython 7.17 and above.\n",
            "  and should_run_async(code)\n"
          ]
        }
      ]
    },
    {
      "cell_type": "code",
      "source": [
        "# Convert TotalCharges to numeric, forcing errors to NaN\n",
        "df['TotalCharges'] = pd.to_numeric(df['TotalCharges'], errors='coerce')\n",
        "\n",
        "# Check for NaN values in TotalCharges after conversion\n",
        "missing_total_charges = df['TotalCharges'].isnull().sum()\n",
        "\n",
        "# Filling missing values in TotalCharges with the median\n",
        "df['TotalCharges'].fillna(df['TotalCharges'].median(), inplace=True)\n",
        "\n",
        "# Verify the conversion\n",
        "df['TotalCharges'].dtype, missing_total_charges"
      ],
      "metadata": {
        "colab": {
          "base_uri": "https://localhost:8080/"
        },
        "id": "PjZBMrkD2UOE",
        "outputId": "68a87761-379a-4590-df93-8fffcd633dfe"
      },
      "execution_count": null,
      "outputs": [
        {
          "output_type": "stream",
          "name": "stderr",
          "text": [
            "/usr/local/lib/python3.10/dist-packages/ipykernel/ipkernel.py:283: DeprecationWarning: `should_run_async` will not call `transform_cell` automatically in the future. Please pass the result to `transformed_cell` argument and any exception that happen during thetransform in `preprocessing_exc_tuple` in IPython 7.17 and above.\n",
            "  and should_run_async(code)\n"
          ]
        },
        {
          "output_type": "execute_result",
          "data": {
            "text/plain": [
              "(dtype('float64'), 11)"
            ]
          },
          "metadata": {},
          "execution_count": 42
        }
      ]
    },
    {
      "cell_type": "code",
      "source": [
        "import pandas as pd\n",
        "from sklearn.model_selection import train_test_split\n",
        "\n",
        "# Load your dataset (assuming you have it prepared similarly to the previous one)\n",
        "X = df  # Load your dataset\n",
        "y = X['Churn']  # Assuming 'churn' is the target variable\n",
        "X = X.drop(columns=['PaymentMethod_Credit card (automatic)'], axis=1)\n",
        "X = X.drop(columns=['Churn', 'customerID'], axis=1)  # Drop the target from the features\n",
        "\n",
        "# Train-test split\n",
        "X_train, X_test, y_train, y_test = train_test_split(X, y, random_state=42)\n"
      ],
      "metadata": {
        "colab": {
          "base_uri": "https://localhost:8080/"
        },
        "id": "wvhxcEDQz_c_",
        "outputId": "00a40a19-7643-41cf-c334-3f864902c67a"
      },
      "execution_count": null,
      "outputs": [
        {
          "output_type": "stream",
          "name": "stderr",
          "text": [
            "/usr/local/lib/python3.10/dist-packages/ipykernel/ipkernel.py:283: DeprecationWarning: `should_run_async` will not call `transform_cell` automatically in the future. Please pass the result to `transformed_cell` argument and any exception that happen during thetransform in `preprocessing_exc_tuple` in IPython 7.17 and above.\n",
            "  and should_run_async(code)\n"
          ]
        }
      ]
    },
    {
      "cell_type": "code",
      "source": [
        "from imodels import RuleFitClassifier\n",
        "\n",
        "\n",
        "# Initialize and train the RuleFit model\n",
        "rulefit_model = RuleFitClassifier()\n",
        "rulefit_model.fit(X_train, y_train)\n",
        "\n",
        "# Make predictions\n",
        "preds = rulefit_model.predict(X_test)\n",
        "\n",
        "# Print the model and evaluation\n",
        "print(rulefit_model)\n"
      ],
      "metadata": {
        "colab": {
          "base_uri": "https://localhost:8080/"
        },
        "id": "2tn9ivlV0p5_",
        "outputId": "9b76566c-ab83-4ba9-f6d1-aebed3a37aab"
      },
      "execution_count": null,
      "outputs": [
        {
          "output_type": "stream",
          "name": "stderr",
          "text": [
            "/usr/local/lib/python3.10/dist-packages/ipykernel/ipkernel.py:283: DeprecationWarning: `should_run_async` will not call `transform_cell` automatically in the future. Please pass the result to `transformed_cell` argument and any exception that happen during thetransform in `preprocessing_exc_tuple` in IPython 7.17 and above.\n",
            "  and should_run_async(code)\n"
          ]
        },
        {
          "output_type": "stream",
          "name": "stdout",
          "text": [
            "> ------------------------------\n",
            "> RuleFit:\n",
            "> \tPredictions are made by summing the coefficients of each rule\n",
            "> ------------------------------\n",
            "                                                                                     rule  coef\n",
            "                                                                             tenure > 5.5 -0.25\n",
            "                                                                             tenure > 6.5 -0.01\n",
            "                                                                            tenure > 12.5 -0.21\n",
            "                                                                            tenure > 13.5 -0.07\n",
            "                                                                            tenure > 17.5 -0.25\n",
            "                                   PaymentMethod_Electronic check <= 0.5 and tenure > 1.5 -0.25\n",
            "                                   PaymentMethod_Electronic check <= 0.5 and tenure > 4.5 -0.12\n",
            "                                                                       OnlineBackup > 0.5 -0.02\n",
            "                                                                   InternetService <= 1.5 -0.55\n",
            "                                   PaymentMethod_Electronic check <= 0.5 and tenure > 6.5 -0.11\n",
            "                                                       Contract <= 1.5 and Contract > 0.5  0.52\n",
            "                                            TechSupport > 0.5 and MonthlyCharges <= 117.2 -0.22\n",
            "                                                                     OnlineSecurity > 0.5 -0.03\n",
            "                                              SeniorCitizen <= 0.5 and OnlineBackup > 0.5 -0.17\n",
            "                                           TotalCharges > 20.325 and OnlineSecurity > 0.5 -0.15\n",
            "                                             TotalCharges > 29.8 and OnlineSecurity > 0.5 -0.22\n",
            "                                                  tenure > 3.5 and InternetService <= 1.5 -0.23\n",
            "                                            InternetService <= 1.5 and OnlineBackup > 0.5 -0.07\n",
            "                  TotalCharges > 20.2 and InternetService <= 1.5 and OnlineSecurity > 0.5 -0.01\n",
            "                                            TechSupport <= 0.5 and PaperlessBilling > 0.5  0.09\n",
            "                                                 tenure <= 47.5 and InternetService > 1.5  0.05\n",
            "                        MonthlyCharges <= 95.1 and tenure > 4.5 and OnlineSecurity <= 0.5 -0.03\n",
            "                                                                           Contract > 1.5 -0.51\n",
            "                              Contract > 0.5 and tenure <= 38.5 and InternetService > 1.5  0.05\n",
            "PaperlessBilling > 0.5 and Dependents <= 0.5 and tenure <= 42.5 and OnlineSecurity <= 0.5  0.22\n",
            "                            TechSupport <= 0.5 and tenure <= 33.5 and MultipleLines > 0.5  0.18\n",
            "                                        TotalCharges <= 351.675 and OnlineSecurity <= 0.5  0.06\n",
            "                        PaperlessBilling > 0.5 and tenure <= 13.5 and MultipleLines > 0.5  0.07\n",
            "\n"
          ]
        }
      ]
    },
    {
      "cell_type": "code",
      "source": [
        "## Rule list\n",
        "\n",
        "from imodels import OptimalRuleListClassifier\n",
        "\n",
        "# Initialize and train the Optimal Rule List model\n",
        "orl_model = OptimalRuleListClassifier()\n",
        "orl_model.fit(X_train, y_train)\n",
        "\n",
        "# Make predictions\n",
        "orl_preds = orl_model.predict(X_test)\n",
        "\n",
        "# Print the model\n",
        "print(orl_model)\n"
      ],
      "metadata": {
        "colab": {
          "base_uri": "https://localhost:8080/"
        },
        "id": "v2GISV4k046l",
        "outputId": "6c400219-6fce-4577-dfe4-cda9329ee8d0"
      },
      "execution_count": null,
      "outputs": [
        {
          "output_type": "stream",
          "name": "stdout",
          "text": [
            "> ------------------------------\n",
            "> Greedy Rule List\n",
            "> ------------------------------\n",
            "↓\n",
            "11.4% risk (5282 pts)\n",
            "\tif ~OnlineSecurity ==> 41.4% risk (2625 pts)\n",
            "↓\n",
            "1.85% risk (2657 pts)\n",
            "\tif ~Contract ==> 17.4% risk (1629 pts)\n",
            "↓\n",
            "1.1% risk (1028 pts)\n",
            "\tif MonthlyCharges ==> 7.3999999999999995% risk (121 pts)\n",
            "↓\n",
            "0.0% risk (907 pts)\n",
            "\tif ~tenure ==> 1.5% risk (668 pts)\n",
            "↓\n",
            "0.0% risk (239 pts)\n",
            "\n"
          ]
        },
        {
          "output_type": "stream",
          "name": "stderr",
          "text": [
            "/usr/local/lib/python3.10/dist-packages/ipykernel/ipkernel.py:283: DeprecationWarning: `should_run_async` will not call `transform_cell` automatically in the future. Please pass the result to `transformed_cell` argument and any exception that happen during thetransform in `preprocessing_exc_tuple` in IPython 7.17 and above.\n",
            "  and should_run_async(code)\n",
            "/usr/local/lib/python3.10/dist-packages/imodels/rule_list/corels_wrapper.py:87: UserWarning: Should install corels with pip install corels. Using GreedyRuleList instead.\n",
            "  warnings.warn(\"Should install corels with pip install corels. Using GreedyRuleList instead.\")\n"
          ]
        }
      ]
    },
    {
      "cell_type": "markdown",
      "source": [
        "Rule Tree\n"
      ],
      "metadata": {
        "id": "9HGBeYfo2euL"
      }
    },
    {
      "cell_type": "code",
      "source": [
        "from imodels import SkopeRulesClassifier\n",
        "from sklearn.model_selection import train_test_split\n",
        "\n",
        "\n",
        "# Split dataset into training and test sets\n",
        "X_train, X_test, y_train, y_test = train_test_split(X, y, random_state=42)\n",
        "\n",
        "# Initialize and train the SkopeRules model\n",
        "skope_model = SkopeRulesClassifier(max_depth=3, n_estimators=30, precision_min=0.3)\n",
        "skope_model.fit(X_train, y_train)\n",
        "\n",
        "# Make predictions\n",
        "skope_preds = skope_model.predict(X_test)\n",
        "\n",
        "# Print out the rules extracted by the SkopeRules model\n",
        "print(\"Extracted Rules:\")\n",
        "rules = skope_model.rules_\n",
        "for rule in rules:\n",
        "    print(rule)\n",
        "\n"
      ],
      "metadata": {
        "colab": {
          "base_uri": "https://localhost:8080/"
        },
        "id": "oN1ibuon1PpA",
        "outputId": "7e994584-115a-4b76-ce27-ea92ff0e8a0d"
      },
      "execution_count": 53,
      "outputs": [
        {
          "output_type": "stream",
          "name": "stderr",
          "text": [
            "/usr/local/lib/python3.10/dist-packages/ipykernel/ipkernel.py:283: DeprecationWarning: `should_run_async` will not call `transform_cell` automatically in the future. Please pass the result to `transformed_cell` argument and any exception that happen during thetransform in `preprocessing_exc_tuple` in IPython 7.17 and above.\n",
            "  and should_run_async(code)\n"
          ]
        },
        {
          "output_type": "stream",
          "name": "stdout",
          "text": [
            "Extracted Rules:\n",
            "Contract > 0.5 and OnlineSecurity <= 0.5 and TechSupport <= 0.5\n",
            "MonthlyCharges > 69.225 and OnlineSecurity <= 0.5 and tenure <= 16.5\n",
            "InternetService > 1.5 and OnlineSecurity <= 0.5 and TotalCharges <= 1285.0\n",
            "MonthlyCharges > 68.625 and OnlineSecurity <= 0.5 and tenure <= 16.5\n",
            "InternetService > 1.5 and OnlineSecurity <= 0.5 and tenure <= 16.5\n",
            "InternetService > 1.5 and OnlineSecurity <= 0.5 and TotalCharges <= 1219.20001\n",
            "InternetService > 1.5 and OnlineSecurity <= 0.5 and TotalCharges <= 1182.0\n",
            "InternetService > 1.5 and TechSupport <= 0.5 and tenure <= 14.5\n",
            "MonthlyCharges > 68.6 and OnlineSecurity <= 0.5 and tenure <= 12.5\n",
            "MonthlyCharges > 68.15 and OnlineSecurity <= 0.5 and tenure <= 14.5\n",
            "InternetService > 1.5 and OnlineSecurity <= 0.5 and tenure <= 12.5\n",
            "InternetService > 1.5 and OnlineSecurity <= 0.5 and TotalCharges <= 1217.75\n",
            "InternetService > 1.5 and OnlineSecurity <= 0.5 and tenure <= 13.5\n",
            "MonthlyCharges > 68.6 and OnlineSecurity <= 0.5 and tenure <= 10.5\n",
            "OnlineSecurity <= 0.5 and tenure <= 16.5 and tenure > 2.5\n",
            "InternetService > 1.5 and TotalCharges > 124.475 and tenure <= 13.5\n",
            "InternetService > 1.5 and tenure <= 59.5 and tenure > 12.5\n",
            "InternetService > 1.5 and TotalCharges > 120.0 and tenure <= 13.5\n",
            "InternetService > 1.5 and TotalCharges <= 1539.625 and TotalCharges > 120.0\n",
            "InternetService > 1.5 and TotalCharges > 120.0 and tenure <= 12.5\n",
            "OnlineSecurity <= 0.5 and tenure <= 2.5\n",
            "InternetService > 1.5 and tenure <= 55.5 and tenure > 13.5\n",
            "InternetService > 1.5 and OnlineSecurity <= 0.5 and tenure > 12.5\n",
            "OnlineSecurity <= 0.5 and PaymentMethod_Electronic check > 0.5 and tenure > 10.5\n",
            "Contract <= 1.5 and OnlineSecurity <= 0.5 and tenure > 16.5\n",
            "InternetService > 1.5 and OnlineSecurity <= 0.5 and TotalCharges > 1217.75\n",
            "InternetService > 1.5 and OnlineSecurity <= 0.5 and TotalCharges > 1182.0\n",
            "InternetService > 1.5 and OnlineSecurity <= 0.5 and TotalCharges > 1285.0\n",
            "OnlineSecurity <= 0.5 and PaymentMethod_Electronic check > 0.5 and tenure > 12.5\n",
            "InternetService > 1.5 and OnlineSecurity <= 0.5 and tenure > 13.5\n",
            "InternetService > 1.5 and TechSupport <= 0.5 and tenure > 14.5\n",
            "InternetService > 1.5 and OnlineSecurity <= 0.5 and tenure > 16.5\n",
            "InternetService <= 1.5 and OnlineSecurity <= 0.5 and tenure <= 13.5\n",
            "InternetService <= 1.5 and tenure <= 5.5\n",
            "MonthlyCharges <= 69.225 and OnlineSecurity <= 0.5 and tenure <= 16.5\n",
            "InternetService <= 1.5 and OnlineSecurity <= 0.5 and TotalCharges <= 1219.20001\n",
            "InternetService <= 1.5 and OnlineSecurity <= 0.5 and tenure <= 16.5\n",
            "InternetService <= 1.5 and OnlineSecurity <= 0.5 and TotalCharges <= 1182.0\n",
            "InternetService <= 1.5 and OnlineSecurity <= 0.5 and TotalCharges <= 1217.75\n",
            "OnlineSecurity <= 0.5 and PaymentMethod_Electronic check > 0.5 and tenure > 16.5\n",
            "InternetService <= 1.5 and TechSupport <= 0.5 and tenure <= 14.5\n",
            "MonthlyCharges <= 68.6 and OnlineSecurity <= 0.5 and tenure <= 10.5\n",
            "InternetService > 1.5 and TotalCharges <= 120.0 and tenure <= 13.5\n",
            "PaymentMethod_Electronic check > 0.5 and tenure <= 42.5 and tenure > 14.5\n",
            "InternetService <= 1.5 and OnlineSecurity <= 0.5 and TotalCharges <= 1285.0\n",
            "PaymentMethod_Electronic check > 0.5 and TechSupport <= 0.5 and tenure > 14.5\n",
            "InternetService <= 1.5 and OnlineSecurity <= 0.5 and tenure <= 12.5\n",
            "MonthlyCharges <= 68.625 and OnlineSecurity <= 0.5 and tenure <= 16.5\n",
            "DeviceProtection <= 1.5 and InternetService <= 1.5 and TotalCharges <= 298.75\n",
            "OnlineSecurity <= 0.5 and PaymentMethod_Electronic check > 0.5 and TotalCharges > 1219.20001\n",
            "InternetService > 1.5 and TotalCharges <= 120.0\n",
            "MonthlyCharges <= 68.6 and OnlineSecurity <= 0.5 and tenure <= 12.5\n",
            "InternetService <= 1.5 and OnlineBackup <= 0.5 and tenure <= 13.5\n",
            "InternetService > 1.5 and TotalCharges <= 3764.69995 and TotalCharges > 1539.625\n",
            "InternetService > 1.5 and TotalCharges <= 120.0 and tenure <= 12.5\n",
            "MonthlyCharges <= 68.15 and tenure <= 3.5\n",
            "InternetService > 1.5 and TotalCharges <= 124.475 and tenure <= 13.5\n",
            "InternetService > 1.5 and OnlineSecurity > 0.5 and tenure <= 58.5\n",
            "Contract <= 1.5 and InternetService > 1.5 and TechSupport > 0.5\n",
            "InternetService <= 1.5 and OnlineSecurity > 0.5 and tenure <= 5.5\n",
            "MonthlyCharges > 68.15 and OnlineSecurity > 0.5 and tenure <= 14.5\n",
            "OnlineSecurity > 0.5 and TechSupport <= 0.5 and TotalCharges <= 146.45\n"
          ]
        }
      ]
    },
    {
      "cell_type": "code",
      "source": [
        "# Print the attributes of the first rule to inspect what it contains\n",
        "first_rule = skope_model.rules_[0]\n",
        "print(dir(first_rule))\n",
        "# Print the first few rules to see what they look like\n",
        "for rule in skope_model.rules_[:5]:\n",
        "    print(rule)\n"
      ],
      "metadata": {
        "colab": {
          "base_uri": "https://localhost:8080/"
        },
        "id": "2NRgLuO03F2k",
        "outputId": "dc96de88-9b50-45dd-e40f-7d982503820c"
      },
      "execution_count": 56,
      "outputs": [
        {
          "output_type": "stream",
          "name": "stdout",
          "text": [
            "['__class__', '__delattr__', '__dict__', '__dir__', '__doc__', '__eq__', '__format__', '__ge__', '__getattribute__', '__gt__', '__hash__', '__init__', '__init_subclass__', '__iter__', '__le__', '__lt__', '__module__', '__ne__', '__new__', '__reduce__', '__reduce_ex__', '__repr__', '__setattr__', '__sizeof__', '__slotnames__', '__str__', '__subclasshook__', '__weakref__', 'agg_dict', 'args', 'factorize', 'rule', 'support', 'terms']\n",
            "Contract > 0.5 and OnlineSecurity <= 0.5 and TechSupport <= 0.5\n",
            "MonthlyCharges > 69.225 and OnlineSecurity <= 0.5 and tenure <= 16.5\n",
            "InternetService > 1.5 and OnlineSecurity <= 0.5 and TotalCharges <= 1285.0\n",
            "MonthlyCharges > 68.625 and OnlineSecurity <= 0.5 and tenure <= 16.5\n",
            "InternetService > 1.5 and OnlineSecurity <= 0.5 and tenure <= 16.5\n"
          ]
        },
        {
          "output_type": "stream",
          "name": "stderr",
          "text": [
            "/usr/local/lib/python3.10/dist-packages/ipykernel/ipkernel.py:283: DeprecationWarning: `should_run_async` will not call `transform_cell` automatically in the future. Please pass the result to `transformed_cell` argument and any exception that happen during thetransform in `preprocessing_exc_tuple` in IPython 7.17 and above.\n",
            "  and should_run_async(code)\n"
          ]
        }
      ]
    },
    {
      "cell_type": "code",
      "source": [
        "pip install graphviz\n"
      ],
      "metadata": {
        "id": "O9fXfirq2pIq",
        "colab": {
          "base_uri": "https://localhost:8080/"
        },
        "outputId": "5aef0754-3469-4909-e41a-3b657e2779cf"
      },
      "execution_count": 57,
      "outputs": [
        {
          "output_type": "stream",
          "name": "stderr",
          "text": [
            "/usr/local/lib/python3.10/dist-packages/ipykernel/ipkernel.py:283: DeprecationWarning: `should_run_async` will not call `transform_cell` automatically in the future. Please pass the result to `transformed_cell` argument and any exception that happen during thetransform in `preprocessing_exc_tuple` in IPython 7.17 and above.\n",
            "  and should_run_async(code)\n"
          ]
        },
        {
          "output_type": "stream",
          "name": "stdout",
          "text": [
            "Requirement already satisfied: graphviz in /usr/local/lib/python3.10/dist-packages (0.20.3)\n"
          ]
        }
      ]
    },
    {
      "cell_type": "code",
      "source": [
        "from graphviz import Digraph\n",
        "\n",
        "# Initialize a new graph\n",
        "dot = Digraph()\n",
        "\n",
        "# Add the starting node (root)\n",
        "dot.node('A', 'Start')\n",
        "\n",
        "# Add nodes representing key rules (subset of rules)\n",
        "dot.node('B', 'Contract > 0.5')\n",
        "dot.node('C', 'OnlineSecurity <= 0.5')\n",
        "dot.node('D', 'TechSupport <= 0.5')\n",
        "dot.node('E', 'MonthlyCharges > 69.225')\n",
        "dot.node('F', 'tenure <= 16.5')\n",
        "\n",
        "# Define paths (edges) based on the rules\n",
        "dot.edge('A', 'B', 'If Contract > 0.5')\n",
        "dot.edge('B', 'C', 'If OnlineSecurity <= 0.5')\n",
        "dot.edge('C', 'D', 'If TechSupport <= 0.5')\n",
        "dot.edge('C', 'E', 'Else MonthlyCharges > 69.225')\n",
        "dot.edge('E', 'F', 'If tenure <= 16.5')\n",
        "dot.edge('D', 'F', 'Else tenure <= 16.5')\n",
        "\n",
        "# Add outcomes at the leaves\n",
        "dot.node('G', 'Churn = Yes')\n",
        "dot.node('H', 'Churn = No')\n",
        "\n",
        "dot.edge('F', 'G', 'Outcome: Churn')\n",
        "dot.edge('E', 'H', 'Outcome: No Churn')\n",
        "\n",
        "# Render the graph\n",
        "dot.render('rules_tree_diagram', format='png', view=True)\n"
      ],
      "metadata": {
        "colab": {
          "base_uri": "https://localhost:8080/",
          "height": 90
        },
        "id": "j4kaLm1d4cxa",
        "outputId": "2bb0ce15-6d2a-420d-c279-473c1f7d9e3e"
      },
      "execution_count": 58,
      "outputs": [
        {
          "output_type": "stream",
          "name": "stderr",
          "text": [
            "/usr/local/lib/python3.10/dist-packages/ipykernel/ipkernel.py:283: DeprecationWarning: `should_run_async` will not call `transform_cell` automatically in the future. Please pass the result to `transformed_cell` argument and any exception that happen during thetransform in `preprocessing_exc_tuple` in IPython 7.17 and above.\n",
            "  and should_run_async(code)\n"
          ]
        },
        {
          "output_type": "execute_result",
          "data": {
            "text/plain": [
              "'rules_tree_diagram.png'"
            ],
            "application/vnd.google.colaboratory.intrinsic+json": {
              "type": "string"
            }
          },
          "metadata": {},
          "execution_count": 58
        }
      ]
    },
    {
      "cell_type": "code",
      "source": [],
      "metadata": {
        "id": "NfGMAvnI4o92"
      },
      "execution_count": null,
      "outputs": []
    },
    {
      "cell_type": "markdown",
      "source": [
        "![rules_tree_diagram.png](data:image/png;base64,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)"
      ],
      "metadata": {
        "id": "VWbIXAit4zVS"
      }
    },
    {
      "cell_type": "code",
      "source": [],
      "metadata": {
        "id": "uR_ZiHRE43SD"
      },
      "execution_count": null,
      "outputs": []
    }
  ]
}